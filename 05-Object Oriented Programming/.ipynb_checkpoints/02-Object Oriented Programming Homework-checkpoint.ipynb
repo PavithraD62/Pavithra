{
  "cells": [
    {
      "cell_type": "markdown",
      "metadata": {
        "id": "Q9hhjjj0EbAC"
      },
      "source": [
        "___\n",
        "\n",
        "<a href='https://www.udemy.com/user/joseportilla/'><img src='https://github.com/Pierian-Data/Complete-Python-3-Bootcamp/blob/master/05-Object%20Oriented%20Programming/Pierian_Data_Logo.png?raw=1'/></a>\n",
        "___\n",
        "<center><em>Content Copyright by Pierian Data</em></center>"
      ]
    },
    {
      "cell_type": "markdown",
      "metadata": {
        "id": "NO7SGArDEbAH"
      },
      "source": [
        "# Object Oriented Programming\n",
        "## Homework Assignment\n",
        "\n",
        "#### Problem 1\n",
        "Fill in the Line class methods to accept coordinates as a pair of tuples and return the slope and distance of the line."
      ]
    },
    {
      "cell_type": "code",
      "execution_count": 7,
      "metadata": {
        "collapsed": true,
        "id": "nlmU992rEbAJ"
      },
      "outputs": [],
      "source": [
        "import math\n",
        "class Line:\n",
        "\n",
        "    def __init__(self,coor1,coor2):\n",
        "       self.x1,self.x2=coor1\n",
        "       self.y1,self.y2=coor2\n",
        "\n",
        "    def distance(self):\n",
        "        return math.sqrt((self.x2-self.x1)**2+(self.y2-self.y1)**2)\n",
        "\n",
        "    def slope(self):\n",
        "        return (self.y2-self.y1)/(self.x2-self.x1)"
      ]
    },
    {
      "cell_type": "code",
      "execution_count": 8,
      "metadata": {
        "collapsed": true,
        "id": "apBIfyAQEbAN"
      },
      "outputs": [],
      "source": [
        "# EXAMPLE OUTPUT\n",
        "\n",
        "coordinate1 = (3,2)\n",
        "coordinate2 = (8,10)\n",
        "\n",
        "li = Line(coordinate1,coordinate2)"
      ]
    },
    {
      "cell_type": "code",
      "execution_count": 9,
      "metadata": {
        "id": "pz2Aa1tQEbAO",
        "outputId": "986ef281-c1b4-4a73-e3bc-b039ea53430c",
        "colab": {
          "base_uri": "https://localhost:8080/"
        }
      },
      "outputs": [
        {
          "output_type": "execute_result",
          "data": {
            "text/plain": [
              "2.23606797749979"
            ]
          },
          "metadata": {},
          "execution_count": 9
        }
      ],
      "source": [
        "li.distance()"
      ]
    },
    {
      "cell_type": "code",
      "execution_count": 10,
      "metadata": {
        "id": "0Et0NuUJEbAQ",
        "outputId": "0c006f4d-7a49-454b-ecc1-70f13fce2dbe",
        "colab": {
          "base_uri": "https://localhost:8080/"
        }
      },
      "outputs": [
        {
          "output_type": "execute_result",
          "data": {
            "text/plain": [
              "-2.0"
            ]
          },
          "metadata": {},
          "execution_count": 10
        }
      ],
      "source": [
        "li.slope()"
      ]
    },
    {
      "cell_type": "markdown",
      "metadata": {
        "id": "9C8_OrBXEbAR"
      },
      "source": [
        "________\n",
        "#### Problem 2"
      ]
    },
    {
      "cell_type": "markdown",
      "metadata": {
        "id": "dxQqxDlxEbAS"
      },
      "source": [
        "Fill in the class"
      ]
    },
    {
      "cell_type": "code",
      "execution_count": 11,
      "metadata": {
        "collapsed": true,
        "id": "0fUKfOMnEbAS"
      },
      "outputs": [],
      "source": [
        "class Cylinder:\n",
        "\n",
        "    def __init__(self,height=1,radius=1):\n",
        "        self.height=height\n",
        "        self.radius=radius\n",
        "\n",
        "    def volume(self):\n",
        "        return 3.14*(self.radius**2)*self.height\n",
        "\n",
        "    def surface_area(self):\n",
        "        return 2*3.14*self.radius*self.height+3.14*(self.radius)**2*self.height"
      ]
    },
    {
      "cell_type": "code",
      "execution_count": 12,
      "metadata": {
        "collapsed": true,
        "id": "12xeHkTlEbAT"
      },
      "outputs": [],
      "source": [
        "# EXAMPLE OUTPUT\n",
        "c = Cylinder(2,3)"
      ]
    },
    {
      "cell_type": "code",
      "execution_count": 13,
      "metadata": {
        "id": "HKT42FUMEbAT",
        "outputId": "c0a3783c-485c-4a4e-96dd-7ccea79e8a23",
        "colab": {
          "base_uri": "https://localhost:8080/"
        }
      },
      "outputs": [
        {
          "output_type": "execute_result",
          "data": {
            "text/plain": [
              "56.52"
            ]
          },
          "metadata": {},
          "execution_count": 13
        }
      ],
      "source": [
        "c.volume()"
      ]
    },
    {
      "cell_type": "code",
      "execution_count": 14,
      "metadata": {
        "id": "HFzDOjeWEbAU",
        "outputId": "1d017fd1-62ec-47ad-c41a-c70e344608f4",
        "colab": {
          "base_uri": "https://localhost:8080/"
        }
      },
      "outputs": [
        {
          "output_type": "execute_result",
          "data": {
            "text/plain": [
              "94.2"
            ]
          },
          "metadata": {},
          "execution_count": 14
        }
      ],
      "source": [
        "c.surface_area()"
      ]
    }
  ],
  "metadata": {
    "kernelspec": {
      "display_name": "Python 3",
      "language": "python",
      "name": "python3"
    },
    "language_info": {
      "codemirror_mode": {
        "name": "ipython",
        "version": 3
      },
      "file_extension": ".py",
      "mimetype": "text/x-python",
      "name": "python",
      "nbconvert_exporter": "python",
      "pygments_lexer": "ipython3",
      "version": "3.6.6"
    },
    "colab": {
      "provenance": []
    }
  },
  "nbformat": 4,
  "nbformat_minor": 0
}