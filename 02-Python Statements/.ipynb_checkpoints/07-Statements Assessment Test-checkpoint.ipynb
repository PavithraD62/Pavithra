{
  "cells": [
    {
      "cell_type": "markdown",
      "metadata": {
        "id": "3EITeZUjfp6q"
      },
      "source": [
        "___\n",
        "\n",
        "<a href='https://www.udemy.com/user/joseportilla/'><img src='https://github.com/Pierian-Data/Complete-Python-3-Bootcamp/blob/master/02-Python%20Statements/Pierian_Data_Logo.png?raw=1'/></a>\n",
        "___\n",
        "<center><em>Content Copyright by Pierian Data</em></center>"
      ]
    },
    {
      "cell_type": "markdown",
      "metadata": {
        "collapsed": true,
        "id": "6yqJedY3fp6s"
      },
      "source": [
        "# Statements Assessment Test\n",
        "Let's test your knowledge!"
      ]
    },
    {
      "cell_type": "markdown",
      "metadata": {
        "id": "CPj-7yuVfp6t"
      },
      "source": [
        "_____\n",
        "**Use <code>for</code>, .split(), and <code>if</code> to create a Statement that will print out words that start with 's':**"
      ]
    },
    {
      "cell_type": "code",
      "execution_count": null,
      "metadata": {
        "collapsed": true,
        "id": "6HRWVpkSfp6t"
      },
      "outputs": [],
      "source": [
        "st = 'Print only the words that start with s in this sentence'"
      ]
    },
    {
      "cell_type": "code",
      "execution_count": 2,
      "metadata": {
        "collapsed": true,
        "id": "LEtL8JPPfp6v",
        "outputId": "50fe29ce-4261-4da8-e223-50a95781f76c",
        "colab": {
          "base_uri": "https://localhost:8080/"
        }
      },
      "outputs": [
        {
          "output_type": "stream",
          "name": "stdout",
          "text": [
            "start\n",
            "s\n",
            "sentence\n"
          ]
        }
      ],
      "source": [
        "#Code here\n",
        "st = 'Print only the words that start with s in this sentence'\n",
        "s=st.split()\n",
        "for item in s:\n",
        "  if item[0]=='s':\n",
        "    print(item)"
      ]
    },
    {
      "cell_type": "markdown",
      "metadata": {
        "id": "1ix79FRMfp6v"
      },
      "source": [
        "______\n",
        "**Use range() to print all the even numbers from 0 to 10.**"
      ]
    },
    {
      "cell_type": "code",
      "execution_count": 3,
      "metadata": {
        "collapsed": true,
        "id": "X4i1ykXCfp6w",
        "outputId": "68f57292-a7fb-455f-983b-4610e9316841",
        "colab": {
          "base_uri": "https://localhost:8080/"
        }
      },
      "outputs": [
        {
          "output_type": "stream",
          "name": "stdout",
          "text": [
            "0\n",
            "2\n",
            "4\n",
            "6\n",
            "8\n",
            "10\n"
          ]
        }
      ],
      "source": [
        "#Code Here\n",
        "for i in range(0,11):\n",
        "  if i%2==0:\n",
        "    print(i)"
      ]
    },
    {
      "cell_type": "markdown",
      "metadata": {
        "id": "HlAT4BGLfp6w"
      },
      "source": [
        "___\n",
        "**Use a List Comprehension to create a list of all numbers between 1 and 50 that are divisible by 3.**"
      ]
    },
    {
      "cell_type": "code",
      "execution_count": 4,
      "metadata": {
        "collapsed": true,
        "id": "JZfE7IGifp6w",
        "outputId": "82c7e739-a57f-451b-a030-80a442940f16",
        "colab": {
          "base_uri": "https://localhost:8080/"
        }
      },
      "outputs": [
        {
          "output_type": "stream",
          "name": "stdout",
          "text": [
            "[3, 6, 9, 12, 15, 18, 21, 24, 27, 30, 33, 36, 39, 42, 45, 48]\n"
          ]
        }
      ],
      "source": [
        "#Code in this cell\n",
        "mylist=[x for x in range(1,51) if x%3==0]\n",
        "print(mylist)"
      ]
    },
    {
      "cell_type": "markdown",
      "metadata": {
        "id": "-7qnGEkxfp6x"
      },
      "source": [
        "_____\n",
        "**Go through the string below and if the length of a word is even print \"even!\"**"
      ]
    },
    {
      "cell_type": "code",
      "execution_count": null,
      "metadata": {
        "collapsed": true,
        "id": "HI76zxUDfp6x"
      },
      "outputs": [],
      "source": [
        "st = 'Print every word in this sentence that has an even number of letters'"
      ]
    },
    {
      "cell_type": "code",
      "execution_count": 5,
      "metadata": {
        "collapsed": true,
        "id": "yO92lNJzfp6x",
        "outputId": "009e603c-d5c2-4867-e1b3-cc1b2f78ae3f",
        "colab": {
          "base_uri": "https://localhost:8080/"
        }
      },
      "outputs": [
        {
          "output_type": "stream",
          "name": "stdout",
          "text": [
            "word\n",
            "in\n",
            "this\n",
            "sentence\n",
            "that\n",
            "an\n",
            "even\n",
            "number\n",
            "of\n"
          ]
        }
      ],
      "source": [
        "#Code in this cell\n",
        "st = 'Print every word in this sentence that has an even number of letters'\n",
        "s=st.split()\n",
        "for item in s:\n",
        "  if len(item)%2==0:\n",
        "    print(item)"
      ]
    },
    {
      "cell_type": "markdown",
      "metadata": {
        "id": "mFMx4-J1fp6y"
      },
      "source": [
        "____\n",
        "**Write a program that prints the integers from 1 to 100. But for multiples of three print \"Fizz\" instead of the number, and for the multiples of five print \"Buzz\". For numbers which are multiples of both three and five print \"FizzBuzz\".**"
      ]
    },
    {
      "cell_type": "code",
      "execution_count": 6,
      "metadata": {
        "collapsed": true,
        "id": "sMIIMdpIfp6y",
        "outputId": "4c9970a4-6c58-4688-98e3-44fb9207e071",
        "colab": {
          "base_uri": "https://localhost:8080/"
        }
      },
      "outputs": [
        {
          "output_type": "stream",
          "name": "stdout",
          "text": [
            "Fizz\n",
            "Fizz\n",
            "Buzz\n",
            "Fizz\n",
            "Fizz\n",
            "Buzz\n",
            "Fizz\n",
            "Fizz\n",
            "Fizz\n",
            "Buzz\n",
            "Fizz\n",
            "Fizz\n",
            "Buzz\n",
            "Fizz\n",
            "Fizz\n",
            "Fizz\n",
            "Buzz\n",
            "Fizz\n",
            "Fizz\n",
            "Buzz\n",
            "Fizz\n",
            "Fizz\n",
            "Fizz\n",
            "Buzz\n",
            "Fizz\n",
            "Fizz\n",
            "Buzz\n",
            "Fizz\n",
            "Fizz\n",
            "Fizz\n",
            "Buzz\n",
            "Fizz\n",
            "Fizz\n",
            "Buzz\n",
            "Fizz\n",
            "Fizz\n",
            "Fizz\n",
            "Buzz\n",
            "Fizz\n",
            "Fizz\n",
            "Buzz\n",
            "Fizz\n",
            "Fizz\n",
            "Fizz\n",
            "Buzz\n",
            "Fizz\n",
            "Fizz\n",
            "Buzz\n"
          ]
        }
      ],
      "source": [
        "#Code in this cell\n",
        "for i in range(0,101):\n",
        "  if i%3==0:\n",
        "    print(\"Fizz\")\n",
        "  elif i%5==0:\n",
        "    print(\"Buzz\")\n",
        "  elif i%3==0 and i%5==0:\n",
        "    print(\"FizzBuzz\")"
      ]
    },
    {
      "cell_type": "markdown",
      "metadata": {
        "id": "S2yKx7bDfp6y"
      },
      "source": [
        "____\n",
        "**Use List Comprehension to create a list of the first letters of every word in the string below:**"
      ]
    },
    {
      "cell_type": "code",
      "execution_count": null,
      "metadata": {
        "collapsed": true,
        "id": "UqU603Iifp6z"
      },
      "outputs": [],
      "source": [
        "st = 'Create a list of the first letters of every word in this string'"
      ]
    },
    {
      "cell_type": "code",
      "execution_count": 9,
      "metadata": {
        "collapsed": true,
        "id": "TTC0BQA_fp6z",
        "outputId": "08b8f0a4-cfc3-4637-f504-23d9723e3654",
        "colab": {
          "base_uri": "https://localhost:8080/"
        }
      },
      "outputs": [
        {
          "output_type": "stream",
          "name": "stdout",
          "text": [
            "['C', 'a', 'l', 'o', 't', 'f', 'l', 'o', 'e', 'w', 'i', 't', 's']\n"
          ]
        }
      ],
      "source": [
        "#Code in this cell\n",
        "st = 'Create a list of the first letters of every word in this string'\n",
        "s=st.split()\n",
        "mylist=[x[0] for x in s]\n",
        "print(mylist)"
      ]
    },
    {
      "cell_type": "markdown",
      "metadata": {
        "id": "4J611sZ5fp6z"
      },
      "source": [
        "### Great Job!"
      ]
    }
  ],
  "metadata": {
    "kernelspec": {
      "display_name": "Python 3",
      "language": "python",
      "name": "python3"
    },
    "language_info": {
      "codemirror_mode": {
        "name": "ipython",
        "version": 3
      },
      "file_extension": ".py",
      "mimetype": "text/x-python",
      "name": "python",
      "nbconvert_exporter": "python",
      "pygments_lexer": "ipython3",
      "version": "3.6.6"
    },
    "colab": {
      "provenance": []
    }
  },
  "nbformat": 4,
  "nbformat_minor": 0
}